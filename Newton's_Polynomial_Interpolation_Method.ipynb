{
  "nbformat": 4,
  "nbformat_minor": 0,
  "metadata": {
    "colab": {
      "provenance": []
    },
    "kernelspec": {
      "name": "python3",
      "display_name": "Python 3"
    },
    "language_info": {
      "name": "python"
    }
  },
  "cells": [
    {
      "cell_type": "markdown",
      "source": [
        "# Newton's Polynomial Interpolation Method\n",
        "\n",
        "The function below computes the coefficients of the Newton interpolating polynomial\n",
        "\n",
        "### Parameters:\n",
        "* x: An array of x values (can also be referred to as nodes)\n",
        "* y: An araay of y values (These are the function values that correspond to the x values)\n",
        "    \n",
        "### Returns:\n",
        "* An array is returned that represents the coefficients of the Newton interpolating polynomial"
      ],
      "metadata": {
        "id": "rErVhAyzD2G8"
      }
    },
    {
      "cell_type": "code",
      "execution_count": null,
      "metadata": {
        "id": "8dJOXW_uDt2w"
      },
      "outputs": [],
      "source": [
        "import numpy as np\n",
        "\n",
        "def newton_interpolating_polynomial(x, y):\n",
        "    n = len(x)\n",
        "\n",
        "    # Create a table to store divided differences\n",
        "    divided_diff = np.zeros((n, n))\n",
        "\n",
        "    # Initialize the first column with y values\n",
        "    divided_diff[:,0] = y\n",
        "\n",
        "    # Compute the divided differences\n",
        "    for j in range(1, n):\n",
        "        for i in range(n - j):\n",
        "            divided_diff[i,j] = (divided_diff[i+1,j-1] - divided_diff[i,j-1]) / (x[i+j] - x[i])\n",
        "\n",
        "    # The coefficients are the top of each column\n",
        "    coefficients = divided_diff[0, :]\n",
        "    return coefficients"
      ]
    },
    {
      "cell_type": "markdown",
      "source": [
        "# Nested Multiplication\n",
        "\n",
        "The function below evaluate the Newton interpolating polynomial at a given x-value using nested multiplication.\n",
        "    \n",
        "### Parameters:\n",
        "* coefficients: This is the array of coefficients that is returned by running the newton_interpolating_polynomial function above\n",
        "* x: This is a float value that specifies where to evaluate the polynomial using nested multiplication\n",
        "* nodes: This is an array of x-values that correspond to the coefficients. These are both needed to construct a function to evaluate using nested multiplication\n",
        "    \n",
        "### Returns:\n",
        "* A float value is returned that represents the y-value of the polynomial at the given x-value."
      ],
      "metadata": {
        "id": "rSEBdIh2GqRQ"
      }
    },
    {
      "cell_type": "code",
      "source": [
        "def evaluate_newton_polynomial(coefficients, x, nodes):\n",
        "\n",
        "    n = len(coefficients)\n",
        "    result = coefficients[n-1]\n",
        "    for i in range(n-2, -1, -1):\n",
        "        result = result * (x - nodes[i]) + coefficients[i]\n",
        "    return result"
      ],
      "metadata": {
        "id": "8p5qo5IpHgiN"
      },
      "execution_count": null,
      "outputs": []
    },
    {
      "cell_type": "markdown",
      "source": [
        "# Applying Both Functions to Approximate $f(4.2)$\n",
        "\n",
        "### X-Values:\n",
        "\n",
        "$x_1 = 0$, $x_2 = 1$, $x_3 = 2$, $x_4 = 4$, $x_5 = 6$\n",
        "\n",
        "### Y-Values:\n",
        "\n",
        "$y_1 = 1$, $y_2 = 9$, $y_3 = 23$, $y_4 = 93$, $y_5 = 259$\n",
        "\n",
        "\n",
        "\n"
      ],
      "metadata": {
        "id": "nUu66ETXIwxI"
      }
    },
    {
      "cell_type": "code",
      "source": [
        "x = [0, 1, 2, 4, 6]\n",
        "y = [1, 9, 23, 93, 259]\n",
        "\n",
        "coefficients = newton_interpolating_polynomial(x, y)\n",
        "coefficients\n"
      ],
      "metadata": {
        "colab": {
          "base_uri": "https://localhost:8080/"
        },
        "id": "iO4euiqBJvmf",
        "outputId": "095631a3-aba4-4345-a84d-e8aca43c970c"
      },
      "execution_count": null,
      "outputs": [
        {
          "output_type": "execute_result",
          "data": {
            "text/plain": [
              "array([1., 8., 3., 1., 0.])"
            ]
          },
          "metadata": {},
          "execution_count": 11
        }
      ]
    },
    {
      "cell_type": "code",
      "source": [
        "approx_value = evaluate_newton_polynomial(coefficients,4.2,x)\n",
        "print(\"f(4.2) is approximately:\",approx_value)"
      ],
      "metadata": {
        "colab": {
          "base_uri": "https://localhost:8080/"
        },
        "id": "ksiGA0WcML3e",
        "outputId": "cf8cd5a4-6cac-4c54-eb71-bc4cb3c2871e"
      },
      "execution_count": null,
      "outputs": [
        {
          "output_type": "stream",
          "name": "stdout",
          "text": [
            "f(4.2) is approximately: 104.48800000000001\n"
          ]
        }
      ]
    }
  ]
}