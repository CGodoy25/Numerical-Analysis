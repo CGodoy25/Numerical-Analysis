{
  "nbformat": 4,
  "nbformat_minor": 0,
  "metadata": {
    "colab": {
      "provenance": []
    },
    "kernelspec": {
      "name": "python3",
      "display_name": "Python 3"
    },
    "language_info": {
      "name": "python"
    }
  },
  "cells": [
    {
      "cell_type": "markdown",
      "source": [
        "# Decimal to Octal Number System Conversion"
      ],
      "metadata": {
        "id": "wITdyQ7Q0COr"
      }
    },
    {
      "cell_type": "markdown",
      "source": [
        "## Outline of the algorithm:\n",
        "\n",
        "Initialization:\n",
        "* Initialize an empty string octal_result to store the octal digits.\n",
        "\n",
        "Division Loop:\n",
        "* Calculate the remainder of the decimal number when divided by 8. This gives the least significant octal digit.\n",
        "* Convert the remainder to a string and prepend it to the result string octal_result.\n",
        "* Update the decimal_number by performing integer division by 8 to remove the processed digit.\n",
        "\n",
        "Return the Result:\n",
        "* After the loop completes, octal_result contains the octal representation of the original decimal number."
      ],
      "metadata": {
        "id": "GrVW9hcG0IfW"
      }
    },
    {
      "cell_type": "code",
      "execution_count": 1,
      "metadata": {
        "colab": {
          "base_uri": "https://localhost:8080/"
        },
        "id": "b_pMBl96z3f-",
        "outputId": "d52260f3-5393-4439-a408-82408598953f"
      },
      "outputs": [
        {
          "output_type": "stream",
          "name": "stdout",
          "text": [
            "Octal Representation: 1247564737045462232761024273634\n"
          ]
        }
      ],
      "source": [
        "def decimal_to_octal(decimal_number):\n",
        "    # Step 1: Initialize an empty string to store the octal result\n",
        "    octal_result = \"\"\n",
        "\n",
        "    # Step 2: Loop to perform the division\n",
        "    while decimal_number > 0:\n",
        "        remainder = decimal_number % 8  # Step 2a: Get the remainder when divided by 8\n",
        "        octal_result = str(remainder) + octal_result  # Step 2b: Append the remainder to the left of the result string\n",
        "        decimal_number = decimal_number // 8  # Step 2c: Update the decimal number by dividing it by 8\n",
        "\n",
        "    return octal_result\n",
        "\n",
        "# Given decimal number\n",
        "decimal_number = 1643482402040809392929077148\n",
        "\n",
        "# Get the octal representation\n",
        "octal_representation = decimal_to_octal(decimal_number)\n",
        "\n",
        "# Output the result\n",
        "print(\"Octal Representation:\", octal_representation)"
      ]
    }
  ]
}