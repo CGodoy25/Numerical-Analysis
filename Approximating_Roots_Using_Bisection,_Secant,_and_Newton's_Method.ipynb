{
  "nbformat": 4,
  "nbformat_minor": 0,
  "metadata": {
    "colab": {
      "provenance": []
    },
    "kernelspec": {
      "name": "python3",
      "display_name": "Python 3"
    },
    "language_info": {
      "name": "python"
    }
  },
  "cells": [
    {
      "cell_type": "markdown",
      "source": [
        "# Part 1 - Bisection Method"
      ],
      "metadata": {
        "id": "ujryIZFzCz6J"
      }
    },
    {
      "cell_type": "markdown",
      "source": [
        "## Function:\n",
        "\n",
        "$f(x) = e^{sin(x)} + x^4 - 2x^3 - x^2 - 1$\n",
        "\n",
        "## Objective:\n",
        "Use Bisection Method to find all $x$ where $f(x)=0$ to an accuracy of at least $10^{-6}$ with intial intervals of $[-2,\\frac{-1}{2}]$ and $[\\frac{1}{2}, 2]$.\n",
        "\n",
        "* Step 1: Use Bisection Method Theorem to determine the number of steps needed to achive an error of less than $10^{-6}$\n",
        "\n",
        "* Step 2: Implement the algorithm using Python"
      ],
      "metadata": {
        "id": "H0VlbxVBDzVp"
      }
    },
    {
      "cell_type": "markdown",
      "source": [
        "### Step 1: Bisection Method Theorem\n",
        "\n",
        "The Bisection Method Theorem tells us that when the bisection algorithm is applied to a continuous function $f(x)$ on $[a, b]$ where $f(a) \\cdot f(b) < 0$, then after n steps, an estimated root will be computed with an error of at most $\\frac{b-a}{2^{n+1}}$.\n",
        "\n",
        "\\\n",
        "\n",
        "Therefore, to determine the number of steps needed for the bisection algorithm  to achive an error of less than $10^{-6}$ in the given interval $[-2,\\frac{-1}{2}]$, we can solve for $n$ where:\n",
        "\n",
        "$$\\frac{-2-\\frac{-1}{2}}{2^{n+1}}< \\frac{1}{10^6}$$\n",
        "\n",
        "After cross-multipying, we get:\n",
        "\n",
        "$$\\frac{3}{2}\\cdot 10^6 < 2^{n+1}$$\n",
        "\n",
        "After applying $\\log_{2}$ to each side, we get:\n",
        "$$\\log_{2}(\\frac{3}{2} \\cdot 10^6) < n + 1$$\n",
        "\n",
        "Simplying:\n",
        "\n",
        "$$\\log_{2}(\\frac{3}{2}) + \\log_{2}(10^6) - 1 < n$$\n",
        "\n",
        "$$\\log_{2}(\\frac{3}{2}) + 6 \\cdot \\log_{2}(10) - 1 < n$$\n",
        "\n",
        "\n",
        "\n",
        "\n"
      ],
      "metadata": {
        "id": "sLiNW2dqEwne"
      }
    },
    {
      "cell_type": "code",
      "execution_count": null,
      "metadata": {
        "colab": {
          "base_uri": "https://localhost:8080/"
        },
        "id": "ncFbH7weCsUp",
        "outputId": "618b4e17-311e-45a6-e972-89186905e590"
      },
      "outputs": [
        {
          "output_type": "stream",
          "name": "stdout",
          "text": [
            "19.516531070045332\n"
          ]
        }
      ],
      "source": [
        "# Solving for n\n",
        "\n",
        "import math\n",
        "\n",
        "x = math.log2(3/2) + 6*math.log2(10) - 1\n",
        "\n",
        "print(x)\n",
        "\n",
        "\n",
        "\n"
      ]
    },
    {
      "cell_type": "markdown",
      "source": [
        "Since $n$ must be a positve integer greater than $\\approx 19.516531070045332$: $$n = 20$$\n",
        "\n",
        "Therefore, the bisection algorithm will take 20 steps to estimate a root for $f(x)$ in the interval $[-2,\\frac{-1}{2}]$ or in the interval $[\\frac{1}{2},2]$."
      ],
      "metadata": {
        "id": "iX0xv_zWMoal"
      }
    },
    {
      "cell_type": "markdown",
      "source": [
        "### Step 2: Implement Bisection Algorithm in Python"
      ],
      "metadata": {
        "id": "kanR8CgiRKtW"
      }
    },
    {
      "cell_type": "markdown",
      "source": [
        "Running the algorithm on the interval: $[-2,\\frac{-1}{2}]$"
      ],
      "metadata": {
        "id": "Ehr-UXuqeP6T"
      }
    },
    {
      "cell_type": "code",
      "source": [
        "import pandas as pd\n",
        "\n",
        "# Defining a function for the bisection algorithm\n",
        "\n",
        "def bisection_algorithm(f, a, b, nmax, e):\n",
        "  table = [] # This list will store n, c, f(c), and abs error for every iteration\n",
        "\n",
        "  f_a = f(a)\n",
        "  f_b = f(b)\n",
        "  if f(a)*f(b) >= 0:\n",
        "    print(\"Error! f(x) has the sign at a and b\")\n",
        "    return\n",
        "\n",
        "  error = b - a\n",
        "\n",
        "  for n in range(1, nmax+1):\n",
        "    error = error/2\n",
        "    c = a + error\n",
        "    f_c = f(c)\n",
        "\n",
        "    table.append([n, c, f_c, abs(error)])\n",
        "\n",
        "    if abs(error) < e:\n",
        "      print(\"The root is\", c)\n",
        "      return\n",
        "    if f_a*f_c < 0:\n",
        "      b = c\n",
        "      f_b = f_c\n",
        "    else:\n",
        "      a = c\n",
        "      f_a = f_c\n",
        "  print(\"The root is\", c)\n",
        "  return table\n",
        "\n",
        "# Defining the function f(x)\n",
        "\n",
        "f = lambda x: math.exp(math.sin(x)) + x**4 - 2*x**3 - x**2 - 1\n",
        "\n",
        "# Running the algorithm and storing the completed table as \"table\"\n",
        "\n",
        "table = bisection_algorithm(f, -2, -1/2, 5, 10**-6)\n",
        "\n",
        "# converting \"table\" into a data frame\n",
        "\n",
        "df = pd.DataFrame(table, columns=['n', 'c', 'f(c)', 'abs error'])\n",
        "df.style.hide(axis='index')\n"
      ],
      "metadata": {
        "colab": {
          "base_uri": "https://localhost:8080/",
          "height": 224
        },
        "id": "41TYHGQGRg7O",
        "outputId": "14820f01-427c-4247-9486-c21b37594c86"
      },
      "execution_count": null,
      "outputs": [
        {
          "output_type": "stream",
          "name": "stdout",
          "text": [
            "The root is -0.734375\n"
          ]
        },
        {
          "output_type": "execute_result",
          "data": {
            "text/plain": [
              "<pandas.io.formats.style.Styler at 0x7b014625ea70>"
            ],
            "text/html": [
              "<style type=\"text/css\">\n",
              "</style>\n",
              "<table id=\"T_1032b\" class=\"dataframe\">\n",
              "  <thead>\n",
              "    <tr>\n",
              "      <th id=\"T_1032b_level0_col0\" class=\"col_heading level0 col0\" >n</th>\n",
              "      <th id=\"T_1032b_level0_col1\" class=\"col_heading level0 col1\" >c</th>\n",
              "      <th id=\"T_1032b_level0_col2\" class=\"col_heading level0 col2\" >f(c)</th>\n",
              "      <th id=\"T_1032b_level0_col3\" class=\"col_heading level0 col3\" >abs error</th>\n",
              "    </tr>\n",
              "  </thead>\n",
              "  <tbody>\n",
              "    <tr>\n",
              "      <td id=\"T_1032b_row0_col0\" class=\"data row0 col0\" >1</td>\n",
              "      <td id=\"T_1032b_row0_col1\" class=\"data row0 col1\" >-1.250000</td>\n",
              "      <td id=\"T_1032b_row0_col2\" class=\"data row0 col2\" >4.172290</td>\n",
              "      <td id=\"T_1032b_row0_col3\" class=\"data row0 col3\" >0.750000</td>\n",
              "    </tr>\n",
              "    <tr>\n",
              "      <td id=\"T_1032b_row1_col0\" class=\"data row1 col0\" >2</td>\n",
              "      <td id=\"T_1032b_row1_col1\" class=\"data row1 col1\" >-0.875000</td>\n",
              "      <td id=\"T_1032b_row1_col2\" class=\"data row1 col2\" >0.624552</td>\n",
              "      <td id=\"T_1032b_row1_col3\" class=\"data row1 col3\" >0.375000</td>\n",
              "    </tr>\n",
              "    <tr>\n",
              "      <td id=\"T_1032b_row2_col0\" class=\"data row2 col0\" >3</td>\n",
              "      <td id=\"T_1032b_row2_col1\" class=\"data row2 col1\" >-0.687500</td>\n",
              "      <td id=\"T_1032b_row2_col2\" class=\"data row2 col2\" >-0.069206</td>\n",
              "      <td id=\"T_1032b_row2_col3\" class=\"data row2 col3\" >0.187500</td>\n",
              "    </tr>\n",
              "    <tr>\n",
              "      <td id=\"T_1032b_row3_col0\" class=\"data row3 col0\" >4</td>\n",
              "      <td id=\"T_1032b_row3_col1\" class=\"data row3 col1\" >-0.781250</td>\n",
              "      <td id=\"T_1032b_row3_col2\" class=\"data row3 col2\" >0.210372</td>\n",
              "      <td id=\"T_1032b_row3_col3\" class=\"data row3 col3\" >0.093750</td>\n",
              "    </tr>\n",
              "    <tr>\n",
              "      <td id=\"T_1032b_row4_col0\" class=\"data row4 col0\" >5</td>\n",
              "      <td id=\"T_1032b_row4_col1\" class=\"data row4 col1\" >-0.734375</td>\n",
              "      <td id=\"T_1032b_row4_col2\" class=\"data row4 col2\" >0.055297</td>\n",
              "      <td id=\"T_1032b_row4_col3\" class=\"data row4 col3\" >0.046875</td>\n",
              "    </tr>\n",
              "  </tbody>\n",
              "</table>\n"
            ]
          },
          "metadata": {},
          "execution_count": 5
        }
      ]
    },
    {
      "cell_type": "markdown",
      "source": [
        "Running the algorithm on the interval: $[\\frac{1}{2},2]$"
      ],
      "metadata": {
        "id": "6KGZuXH4edmm"
      }
    },
    {
      "cell_type": "code",
      "source": [
        "import pandas as pd\n",
        "\n",
        "# Defining a function for the bisection algorithm\n",
        "\n",
        "def bisection_algorithm(f, a, b, nmax, e):\n",
        "  table = [] # This list will store n, c, f(c), and abs error for every iteration\n",
        "\n",
        "  f_a = f(a)\n",
        "  f_b = f(b)\n",
        "  if f(a)*f(b) >= 0:\n",
        "    print(\"Error! f(x) has the sign at a and b\")\n",
        "    return\n",
        "\n",
        "  error = b - a\n",
        "\n",
        "  for n in range(1, nmax+1):\n",
        "    error = error/2\n",
        "    c = a + error\n",
        "    f_c = f(c)\n",
        "\n",
        "    table.append([n, c, f_c, abs(error)])\n",
        "\n",
        "    if abs(error) < e:\n",
        "      print(\"The root is\", c)\n",
        "      return\n",
        "    if f_a*f_c < 0:\n",
        "      b = c\n",
        "      f_b = f_c\n",
        "    else:\n",
        "      a = c\n",
        "      f_a = f_c\n",
        "  print(\"The root is\", c)\n",
        "  return table\n",
        "\n",
        "# Defining the function f(x)\n",
        "\n",
        "f = lambda x: math.exp(math.sin(x)) + x**4 - 2*x**3 - x**2 - 1\n",
        "\n",
        "# Running the algorithm and storing the completed table as \"table\"\n",
        "\n",
        "table = bisection_algorithm(f, 1/2, 2, 5, 10**-6)\n",
        "\n",
        "# converting \"table\" into a data frame\n",
        "\n",
        "df = pd.DataFrame(table, columns=['n', 'c', 'f(c)', 'abs error'])\n",
        "df.style.hide(axis='index')\n"
      ],
      "metadata": {
        "colab": {
          "base_uri": "https://localhost:8080/",
          "height": 224
        },
        "id": "cS0GoT1melKm",
        "outputId": "cb2be5c7-6772-48b0-a6b4-0d36fe03e459"
      },
      "execution_count": null,
      "outputs": [
        {
          "output_type": "stream",
          "name": "stdout",
          "text": [
            "The root is 0.640625\n"
          ]
        },
        {
          "output_type": "execute_result",
          "data": {
            "text/plain": [
              "<pandas.io.formats.style.Styler at 0x7b0112c2c6a0>"
            ],
            "text/html": [
              "<style type=\"text/css\">\n",
              "</style>\n",
              "<table id=\"T_7ede1\" class=\"dataframe\">\n",
              "  <thead>\n",
              "    <tr>\n",
              "      <th id=\"T_7ede1_level0_col0\" class=\"col_heading level0 col0\" >n</th>\n",
              "      <th id=\"T_7ede1_level0_col1\" class=\"col_heading level0 col1\" >c</th>\n",
              "      <th id=\"T_7ede1_level0_col2\" class=\"col_heading level0 col2\" >f(c)</th>\n",
              "      <th id=\"T_7ede1_level0_col3\" class=\"col_heading level0 col3\" >abs error</th>\n",
              "    </tr>\n",
              "  </thead>\n",
              "  <tbody>\n",
              "    <tr>\n",
              "      <td id=\"T_7ede1_row0_col0\" class=\"data row0 col0\" >1</td>\n",
              "      <td id=\"T_7ede1_row0_col1\" class=\"data row0 col1\" >1.250000</td>\n",
              "      <td id=\"T_7ede1_row0_col2\" class=\"data row0 col2\" >-1.444258</td>\n",
              "      <td id=\"T_7ede1_row0_col3\" class=\"data row0 col3\" >0.750000</td>\n",
              "    </tr>\n",
              "    <tr>\n",
              "      <td id=\"T_7ede1_row1_col0\" class=\"data row1 col0\" >2</td>\n",
              "      <td id=\"T_7ede1_row1_col1\" class=\"data row1 col1\" >0.875000</td>\n",
              "      <td id=\"T_7ede1_row1_col2\" class=\"data row1 col2\" >-0.364820</td>\n",
              "      <td id=\"T_7ede1_row1_col3\" class=\"data row1 col3\" >0.375000</td>\n",
              "    </tr>\n",
              "    <tr>\n",
              "      <td id=\"T_7ede1_row2_col0\" class=\"data row2 col0\" >3</td>\n",
              "      <td id=\"T_7ede1_row2_col1\" class=\"data row2 col1\" >0.687500</td>\n",
              "      <td id=\"T_7ede1_row2_col2\" class=\"data row2 col2\" >-0.012874</td>\n",
              "      <td id=\"T_7ede1_row2_col3\" class=\"data row2 col3\" >0.187500</td>\n",
              "    </tr>\n",
              "    <tr>\n",
              "      <td id=\"T_7ede1_row3_col0\" class=\"data row3 col0\" >4</td>\n",
              "      <td id=\"T_7ede1_row3_col1\" class=\"data row3 col1\" >0.593750</td>\n",
              "      <td id=\"T_7ede1_row3_col2\" class=\"data row3 col2\" >0.102855</td>\n",
              "      <td id=\"T_7ede1_row3_col3\" class=\"data row3 col3\" >0.093750</td>\n",
              "    </tr>\n",
              "    <tr>\n",
              "      <td id=\"T_7ede1_row4_col0\" class=\"data row4 col0\" >5</td>\n",
              "      <td id=\"T_7ede1_row4_col1\" class=\"data row4 col1\" >0.640625</td>\n",
              "      <td id=\"T_7ede1_row4_col2\" class=\"data row4 col2\" >0.050129</td>\n",
              "      <td id=\"T_7ede1_row4_col3\" class=\"data row4 col3\" >0.046875</td>\n",
              "    </tr>\n",
              "  </tbody>\n",
              "</table>\n"
            ]
          },
          "metadata": {},
          "execution_count": 6
        }
      ]
    },
    {
      "cell_type": "markdown",
      "source": [
        "# Part 2 - Newton's Method"
      ],
      "metadata": {
        "id": "kYdcIiCOfOW4"
      }
    },
    {
      "cell_type": "markdown",
      "source": [
        "Running Newton's Method on $f(x)$ with intial guess of $x = -0.43$"
      ],
      "metadata": {
        "id": "nnamnQHXfViQ"
      }
    },
    {
      "cell_type": "code",
      "source": [
        "def newton_method(f, f_prime, x0, nmax, epsilon):\n",
        "\n",
        "  table2 = []\n",
        "\n",
        "  x = x0\n",
        "  for n in range(1, nmax+1):\n",
        "    f_x = f(x)\n",
        "    f_p = f_prime(x)\n",
        "    d = f_x/f_p\n",
        "    x = x - d\n",
        "\n",
        "    table2.append([n, x, f_x, f_p, d])\n",
        "\n",
        "    if abs(d) < epsilon:\n",
        "      print(\"The root is\", x)\n",
        "      return table2\n",
        "\n",
        "  return table2\n",
        "\n",
        "# Defining the function f(x) and f'(x)\n",
        "\n",
        "f = lambda x: math.exp(math.sin(x)) + x**4 - 2*x**3 - x**2 - 1\n",
        "f_prime = lambda x: math.exp(math.sin(x)) * math.cos(x) + 4*x**3 - 6*x**2 - 2*x\n",
        "\n",
        "# Running the algorithm and storing the completed table as \"table\"\n",
        "\n",
        "table2 = newton_method(f, f_prime, -0.43, 1000, 10**-6)\n",
        "\n",
        "# converting \"table\" into a data frame\n",
        "\n",
        "df = pd.DataFrame(table2, columns=['n', 'x', 'f(x)', \"f'(x)\", 'abs error'])\n",
        "df.style.hide(axis='index')"
      ],
      "metadata": {
        "colab": {
          "base_uri": "https://localhost:8080/",
          "height": 444
        },
        "id": "o5Z2RuI_gCdP",
        "outputId": "48e384e2-7942-4fd8-8475-0c70ebbce242"
      },
      "execution_count": null,
      "outputs": [
        {
          "output_type": "stream",
          "name": "stdout",
          "text": [
            "The root is 2.3454836899131144\n"
          ]
        },
        {
          "output_type": "execute_result",
          "data": {
            "text/plain": [
              "<pandas.io.formats.style.Styler at 0x7b0112c2d7e0>"
            ],
            "text/html": [
              "<style type=\"text/css\">\n",
              "</style>\n",
              "<table id=\"T_40399\" class=\"dataframe\">\n",
              "  <thead>\n",
              "    <tr>\n",
              "      <th id=\"T_40399_level0_col0\" class=\"col_heading level0 col0\" >n</th>\n",
              "      <th id=\"T_40399_level0_col1\" class=\"col_heading level0 col1\" >x</th>\n",
              "      <th id=\"T_40399_level0_col2\" class=\"col_heading level0 col2\" >f(x)</th>\n",
              "      <th id=\"T_40399_level0_col3\" class=\"col_heading level0 col3\" >f'(x)</th>\n",
              "      <th id=\"T_40399_level0_col4\" class=\"col_heading level0 col4\" >abs error</th>\n",
              "    </tr>\n",
              "  </thead>\n",
              "  <tbody>\n",
              "    <tr>\n",
              "      <td id=\"T_40399_row0_col0\" class=\"data row0 col0\" >1</td>\n",
              "      <td id=\"T_40399_row0_col1\" class=\"data row0 col1\" >10.069529</td>\n",
              "      <td id=\"T_40399_row0_col2\" class=\"data row0 col2\" >-0.332592</td>\n",
              "      <td id=\"T_40399_row0_col3\" class=\"data row0 col3\" >0.031677</td>\n",
              "      <td id=\"T_40399_row0_col4\" class=\"data row0 col4\" >-10.499529</td>\n",
              "    </tr>\n",
              "    <tr>\n",
              "      <td id=\"T_40399_row1_col0\" class=\"data row1 col0\" >2</td>\n",
              "      <td id=\"T_40399_row1_col1\" class=\"data row1 col1\" >7.714386</td>\n",
              "      <td id=\"T_40399_row1_col2\" class=\"data row1 col2\" >8137.174194</td>\n",
              "      <td id=\"T_40399_row1_col3\" class=\"data row1 col3\" >3455.066337</td>\n",
              "      <td id=\"T_40399_row1_col4\" class=\"data row1 col4\" >2.355143</td>\n",
              "    </tr>\n",
              "    <tr>\n",
              "      <td id=\"T_40399_row2_col0\" class=\"data row2 col0\" >3</td>\n",
              "      <td id=\"T_40399_row2_col1\" class=\"data row2 col1\" >5.962216</td>\n",
              "      <td id=\"T_40399_row2_col2\" class=\"data row2 col2\" >2565.635752</td>\n",
              "      <td id=\"T_40399_row2_col3\" class=\"data row2 col3\" >1464.261870</td>\n",
              "      <td id=\"T_40399_row2_col4\" class=\"data row2 col4\" >1.752170</td>\n",
              "    </tr>\n",
              "    <tr>\n",
              "      <td id=\"T_40399_row3_col0\" class=\"data row3 col0\" >4</td>\n",
              "      <td id=\"T_40399_row3_col1\" class=\"data row3 col1\" >4.672299</td>\n",
              "      <td id=\"T_40399_row3_col2\" class=\"data row3 col2\" >803.953255</td>\n",
              "      <td id=\"T_40399_row3_col3\" class=\"data row3 col3\" >623.259566</td>\n",
              "      <td id=\"T_40399_row3_col4\" class=\"data row3 col4\" >1.289917</td>\n",
              "    </tr>\n",
              "    <tr>\n",
              "      <td id=\"T_40399_row4_col0\" class=\"data row4 col0\" >5</td>\n",
              "      <td id=\"T_40399_row4_col1\" class=\"data row4 col1\" >3.737845</td>\n",
              "      <td id=\"T_40399_row4_col2\" class=\"data row4 col2\" >250.107066</td>\n",
              "      <td id=\"T_40399_row4_col3\" class=\"data row4 col3\" >267.650570</td>\n",
              "      <td id=\"T_40399_row4_col4\" class=\"data row4 col4\" >0.934454</td>\n",
              "    </tr>\n",
              "    <tr>\n",
              "      <td id=\"T_40399_row5_col0\" class=\"data row5 col0\" >6</td>\n",
              "      <td id=\"T_40399_row5_col1\" class=\"data row5 col1\" >3.085889</td>\n",
              "      <td id=\"T_40399_row5_col2\" class=\"data row5 col2\" >76.354772</td>\n",
              "      <td id=\"T_40399_row5_col3\" class=\"data row5 col3\" >117.116493</td>\n",
              "      <td id=\"T_40399_row5_col4\" class=\"data row5 col4\" >0.651956</td>\n",
              "    </tr>\n",
              "    <tr>\n",
              "      <td id=\"T_40399_row6_col0\" class=\"data row6 col0\" >7</td>\n",
              "      <td id=\"T_40399_row6_col1\" class=\"data row6 col1\" >2.663845</td>\n",
              "      <td id=\"T_40399_row6_col2\" class=\"data row6 col2\" >22.444532</td>\n",
              "      <td id=\"T_40399_row6_col3\" class=\"data row6 col3\" >53.180491</td>\n",
              "      <td id=\"T_40399_row6_col4\" class=\"data row6 col4\" >0.422044</td>\n",
              "    </tr>\n",
              "    <tr>\n",
              "      <td id=\"T_40399_row7_col0\" class=\"data row7 col0\" >8</td>\n",
              "      <td id=\"T_40399_row7_col1\" class=\"data row7 col1\" >2.434339</td>\n",
              "      <td id=\"T_40399_row7_col2\" class=\"data row7 col2\" >6.036205</td>\n",
              "      <td id=\"T_40399_row7_col3\" class=\"data row7 col3\" >26.300812</td>\n",
              "      <td id=\"T_40399_row7_col4\" class=\"data row7 col4\" >0.229506</td>\n",
              "    </tr>\n",
              "    <tr>\n",
              "      <td id=\"T_40399_row8_col0\" class=\"data row8 col0\" >9</td>\n",
              "      <td id=\"T_40399_row8_col1\" class=\"data row8 col1\" >2.355038</td>\n",
              "      <td id=\"T_40399_row8_col2\" class=\"data row8 col2\" >1.254781</td>\n",
              "      <td id=\"T_40399_row8_col3\" class=\"data row8 col3\" >15.823169</td>\n",
              "      <td id=\"T_40399_row8_col4\" class=\"data row8 col4\" >0.079300</td>\n",
              "    </tr>\n",
              "    <tr>\n",
              "      <td id=\"T_40399_row9_col0\" class=\"data row9 col0\" >10</td>\n",
              "      <td id=\"T_40399_row9_col1\" class=\"data row9 col1\" >2.345611</td>\n",
              "      <td id=\"T_40399_row9_col2\" class=\"data row9 col2\" >0.120910</td>\n",
              "      <td id=\"T_40399_row9_col3\" class=\"data row9 col3\" >12.825192</td>\n",
              "      <td id=\"T_40399_row9_col4\" class=\"data row9 col4\" >0.009428</td>\n",
              "    </tr>\n",
              "    <tr>\n",
              "      <td id=\"T_40399_row10_col0\" class=\"data row10 col0\" >11</td>\n",
              "      <td id=\"T_40399_row10_col1\" class=\"data row10 col1\" >2.345484</td>\n",
              "      <td id=\"T_40399_row10_col2\" class=\"data row10 col2\" >0.001587</td>\n",
              "      <td id=\"T_40399_row10_col3\" class=\"data row10 col3\" >12.489172</td>\n",
              "      <td id=\"T_40399_row10_col4\" class=\"data row10 col4\" >0.000127</td>\n",
              "    </tr>\n",
              "    <tr>\n",
              "      <td id=\"T_40399_row11_col0\" class=\"data row11 col0\" >12</td>\n",
              "      <td id=\"T_40399_row11_col1\" class=\"data row11 col1\" >2.345484</td>\n",
              "      <td id=\"T_40399_row11_col2\" class=\"data row11 col2\" >0.000000</td>\n",
              "      <td id=\"T_40399_row11_col3\" class=\"data row11 col3\" >12.484671</td>\n",
              "      <td id=\"T_40399_row11_col4\" class=\"data row11 col4\" >0.000000</td>\n",
              "    </tr>\n",
              "  </tbody>\n",
              "</table>\n"
            ]
          },
          "metadata": {},
          "execution_count": 7
        }
      ]
    },
    {
      "cell_type": "markdown",
      "source": [
        "Running Newton's Method on $f(x)$ with intial guess of $x = 3$"
      ],
      "metadata": {
        "id": "0KNnD7V1qkC1"
      }
    },
    {
      "cell_type": "code",
      "source": [
        "def newton_method(f, f_prime, x0, nmax, epsilon):\n",
        "\n",
        "  table2 = []\n",
        "\n",
        "  x = x0\n",
        "  for n in range(1, nmax+1):\n",
        "    f_x = f(x)\n",
        "    f_p = f_prime(x)\n",
        "    d = f_x/f_p\n",
        "    x = x - d\n",
        "\n",
        "    table2.append([n, x, f_x, f_p, d])\n",
        "\n",
        "    if abs(d) < epsilon:\n",
        "      print(\"The root is\", x)\n",
        "      return table2\n",
        "\n",
        "  return table2\n",
        "\n",
        "# Defining the function f(x) and f'(x)\n",
        "\n",
        "f = lambda x: math.exp(math.sin(x)) + x**4 - 2*x**3 - x**2 - 1\n",
        "f_prime = lambda x: math.exp(math.sin(x)) * math.cos(x) + 4*x**3 - 6*x**2 - 2*x\n",
        "\n",
        "# Running the algorithm and storing the completed table as \"table\"\n",
        "\n",
        "table2 = newton_method(f, f_prime, 3, 1000, 10**-6)\n",
        "\n",
        "# converting \"table\" into a data frame\n",
        "\n",
        "df = pd.DataFrame(table2, columns=['n', 'x', 'f(x)', \"f'(x)\", 'abs error'])\n",
        "df.style.hide(axis='index')\n"
      ],
      "metadata": {
        "colab": {
          "base_uri": "https://localhost:8080/",
          "height": 255
        },
        "id": "yvU2yAufqkes",
        "outputId": "439b85c1-a860-47a0-fbb0-d7a84c2bbf03"
      },
      "execution_count": null,
      "outputs": [
        {
          "output_type": "stream",
          "name": "stdout",
          "text": [
            "The root is 2.3454836899131135\n"
          ]
        },
        {
          "output_type": "execute_result",
          "data": {
            "text/plain": [
              "<pandas.io.formats.style.Styler at 0x7b0112c2cac0>"
            ],
            "text/html": [
              "<style type=\"text/css\">\n",
              "</style>\n",
              "<table id=\"T_42962\" class=\"dataframe\">\n",
              "  <thead>\n",
              "    <tr>\n",
              "      <th id=\"T_42962_level0_col0\" class=\"col_heading level0 col0\" >n</th>\n",
              "      <th id=\"T_42962_level0_col1\" class=\"col_heading level0 col1\" >x</th>\n",
              "      <th id=\"T_42962_level0_col2\" class=\"col_heading level0 col2\" >f(x)</th>\n",
              "      <th id=\"T_42962_level0_col3\" class=\"col_heading level0 col3\" >f'(x)</th>\n",
              "      <th id=\"T_42962_level0_col4\" class=\"col_heading level0 col4\" >abs error</th>\n",
              "    </tr>\n",
              "  </thead>\n",
              "  <tbody>\n",
              "    <tr>\n",
              "      <td id=\"T_42962_row0_col0\" class=\"data row0 col0\" >1</td>\n",
              "      <td id=\"T_42962_row0_col1\" class=\"data row0 col1\" >2.612642</td>\n",
              "      <td id=\"T_42962_row0_col2\" class=\"data row0 col2\" >18.151563</td>\n",
              "      <td id=\"T_42962_row0_col3\" class=\"data row0 col3\" >46.859961</td>\n",
              "      <td id=\"T_42962_row0_col4\" class=\"data row0 col4\" >0.387358</td>\n",
              "    </tr>\n",
              "    <tr>\n",
              "      <td id=\"T_42962_row1_col0\" class=\"data row1 col0\" >2</td>\n",
              "      <td id=\"T_42962_row1_col1\" class=\"data row1 col1\" >2.412164</td>\n",
              "      <td id=\"T_42962_row1_col2\" class=\"data row1 col2\" >4.756109</td>\n",
              "      <td id=\"T_42962_row1_col3\" class=\"data row1 col3\" >23.723855</td>\n",
              "      <td id=\"T_42962_row1_col4\" class=\"data row1 col4\" >0.200478</td>\n",
              "    </tr>\n",
              "    <tr>\n",
              "      <td id=\"T_42962_row2_col0\" class=\"data row2 col0\" >3</td>\n",
              "      <td id=\"T_42962_row2_col1\" class=\"data row2 col1\" >2.351069</td>\n",
              "      <td id=\"T_42962_row2_col2\" class=\"data row2 col2\" >0.913601</td>\n",
              "      <td id=\"T_42962_row2_col3\" class=\"data row2 col3\" >14.953703</td>\n",
              "      <td id=\"T_42962_row2_col4\" class=\"data row2 col4\" >0.061095</td>\n",
              "    </tr>\n",
              "    <tr>\n",
              "      <td id=\"T_42962_row3_col0\" class=\"data row3 col0\" >4</td>\n",
              "      <td id=\"T_42962_row3_col1\" class=\"data row3 col1\" >2.345527</td>\n",
              "      <td id=\"T_42962_row3_col2\" class=\"data row3 col2\" >0.070286</td>\n",
              "      <td id=\"T_42962_row3_col3\" class=\"data row3 col3\" >12.683198</td>\n",
              "      <td id=\"T_42962_row3_col4\" class=\"data row3 col4\" >0.005542</td>\n",
              "    </tr>\n",
              "    <tr>\n",
              "      <td id=\"T_42962_row4_col0\" class=\"data row4 col0\" >5</td>\n",
              "      <td id=\"T_42962_row4_col1\" class=\"data row4 col1\" >2.345484</td>\n",
              "      <td id=\"T_42962_row4_col2\" class=\"data row4 col2\" >0.000546</td>\n",
              "      <td id=\"T_42962_row4_col3\" class=\"data row4 col3\" >12.486220</td>\n",
              "      <td id=\"T_42962_row4_col4\" class=\"data row4 col4\" >0.000044</td>\n",
              "    </tr>\n",
              "    <tr>\n",
              "      <td id=\"T_42962_row5_col0\" class=\"data row5 col0\" >6</td>\n",
              "      <td id=\"T_42962_row5_col1\" class=\"data row5 col1\" >2.345484</td>\n",
              "      <td id=\"T_42962_row5_col2\" class=\"data row5 col2\" >0.000000</td>\n",
              "      <td id=\"T_42962_row5_col3\" class=\"data row5 col3\" >12.484671</td>\n",
              "      <td id=\"T_42962_row5_col4\" class=\"data row5 col4\" >0.000000</td>\n",
              "    </tr>\n",
              "  </tbody>\n",
              "</table>\n"
            ]
          },
          "metadata": {},
          "execution_count": 8
        }
      ]
    },
    {
      "cell_type": "markdown",
      "source": [
        "## Convergence Analysis\n",
        "\n",
        "As shown in the code above, Newton's Method converged to the root of $f(x)$ with an error or less than $10^{-6}$ in 12 steps with an initial guess of -0.46 but only took 6 steps with an initial guess of 3.\n",
        "\n",
        "The reason why the algorithm converges slower with an intial guess of $x=-0.46$ is because the derivative of $f(x)$ when $x=-0.46$ is very small.\n",
        "* The tables above show that on the first iteration of newton's method with an initial guess of $x=-0.46$ that $f'(x)= 0.031677$\n",
        "* This is much smaller than $f'(x)=46.859961$ for an initial guess of $x=3$\n",
        "\n"
      ],
      "metadata": {
        "id": "LqxA0gQGsHQT"
      }
    },
    {
      "cell_type": "markdown",
      "source": [
        "# Part 3 - Secant Method"
      ],
      "metadata": {
        "id": "xho9IqFZvF-X"
      }
    },
    {
      "cell_type": "markdown",
      "source": [
        "## Function:\n",
        "$f(x)=x-0.5sin(x)-1$"
      ],
      "metadata": {
        "id": "KxvXv8NDvLAS"
      }
    },
    {
      "cell_type": "markdown",
      "source": [
        "Using Secant Method to compute the root of $f(x)$ where $x_1$ is obtained from one iteration of the newton's method with $x_0 = 0.5$."
      ],
      "metadata": {
        "id": "9JSF6kI70hTr"
      }
    },
    {
      "cell_type": "code",
      "source": [
        "def newton_method(f, f_prime, x0, nmax, epsilon):\n",
        "\n",
        "  x = x0\n",
        "  for n in range(1, nmax+1):\n",
        "    f_x = f(x)\n",
        "    f_p = f_prime(x)\n",
        "    d = f_x/f_p\n",
        "    x = x - d\n",
        "\n",
        "    table2.append([n, x, f_x, f_p, d])\n",
        "\n",
        "    if n >= nmax:\n",
        "      return x\n",
        "  return\n",
        "\n",
        "# Defining the function f(x) and f'(x)\n",
        "\n",
        "f = lambda x: x -0.5*math.sin(x) - 1\n",
        "f_prime = lambda x: 1 + 0.5*math.cos(x)\n",
        "\n",
        "# Running one iteration of Newton's Method and storing the result\n",
        "\n",
        "x1 = newton_method(f, f_prime, 0.5, 1, 10**-6)\n",
        "print(\"x1:\",x1)\n",
        "\n",
        "# Defining a function for the secant method\n",
        "\n",
        "def secant_method(f, x0, x1, nmax):\n",
        "  table3 = []\n",
        "  f0 = f(x0)\n",
        "  f1 = f(x1)\n",
        "  if abs(f1) > abs(f0):\n",
        "    x0, x1 = x1, x0\n",
        "    f0, f1 = f1, f0\n",
        "  for n in range(1, nmax+1):\n",
        "    d = (f1*(x0-x1))/(f0-f1)\n",
        "    if n-1 >= nmax:\n",
        "      print()\n",
        "      print(\"The root after\",n,\"interations of the secant method is\", x1)\n",
        "      print()\n",
        "      return table3\n",
        "    x0 = x1\n",
        "    x1 = x1 - d\n",
        "    f0 = f1\n",
        "    f1 = f(x1)\n",
        "\n",
        "    table3.append([n, x1, f(x1), d])\n",
        "\n",
        "  return table3\n",
        "\n",
        "# Running 5 interations of the secant method\n",
        "\n",
        "table3 = secant_method(f, 0.5, x1, 5)\n",
        "\n",
        "df = pd.DataFrame(table3, columns=['n', 'x', 'f(x)', 'abs error'])\n",
        "df.style.hide(axis='index')\n",
        "\n",
        "\n",
        "\n"
      ],
      "metadata": {
        "colab": {
          "base_uri": "https://localhost:8080/",
          "height": 224
        },
        "id": "OxPF3Gj0zcdx",
        "outputId": "32d79339-da31-4623-ecaf-a6c320bfa97e"
      },
      "execution_count": null,
      "outputs": [
        {
          "output_type": "stream",
          "name": "stdout",
          "text": [
            "x1: 1.0141209702189475\n"
          ]
        },
        {
          "output_type": "execute_result",
          "data": {
            "text/plain": [
              "<pandas.io.formats.style.Styler at 0x7b0112d51600>"
            ],
            "text/html": [
              "<style type=\"text/css\">\n",
              "</style>\n",
              "<table id=\"T_3beeb\" class=\"dataframe\">\n",
              "  <thead>\n",
              "    <tr>\n",
              "      <th id=\"T_3beeb_level0_col0\" class=\"col_heading level0 col0\" >n</th>\n",
              "      <th id=\"T_3beeb_level0_col1\" class=\"col_heading level0 col1\" >x</th>\n",
              "      <th id=\"T_3beeb_level0_col2\" class=\"col_heading level0 col2\" >f(x)</th>\n",
              "      <th id=\"T_3beeb_level0_col3\" class=\"col_heading level0 col3\" >abs error</th>\n",
              "    </tr>\n",
              "  </thead>\n",
              "  <tbody>\n",
              "    <tr>\n",
              "      <td id=\"T_3beeb_row0_col0\" class=\"data row0 col0\" >1</td>\n",
              "      <td id=\"T_3beeb_row0_col1\" class=\"data row0 col1\" >1.654790</td>\n",
              "      <td id=\"T_3beeb_row0_col2\" class=\"data row0 col2\" >0.156553</td>\n",
              "      <td id=\"T_3beeb_row0_col3\" class=\"data row0 col3\" >-0.640669</td>\n",
              "    </tr>\n",
              "    <tr>\n",
              "      <td id=\"T_3beeb_row1_col0\" class=\"data row1 col0\" >2</td>\n",
              "      <td id=\"T_3beeb_row1_col1\" class=\"data row1 col1\" >1.477878</td>\n",
              "      <td id=\"T_3beeb_row1_col2\" class=\"data row1 col2\" >-0.019965</td>\n",
              "      <td id=\"T_3beeb_row1_col3\" class=\"data row1 col3\" >0.176912</td>\n",
              "    </tr>\n",
              "    <tr>\n",
              "      <td id=\"T_3beeb_row2_col0\" class=\"data row2 col0\" >3</td>\n",
              "      <td id=\"T_3beeb_row2_col1\" class=\"data row2 col1\" >1.497888</td>\n",
              "      <td id=\"T_3beeb_row2_col2\" class=\"data row2 col2\" >-0.000784</td>\n",
              "      <td id=\"T_3beeb_row2_col3\" class=\"data row2 col3\" >-0.020010</td>\n",
              "    </tr>\n",
              "    <tr>\n",
              "      <td id=\"T_3beeb_row3_col0\" class=\"data row3 col0\" >4</td>\n",
              "      <td id=\"T_3beeb_row3_col1\" class=\"data row3 col1\" >1.498706</td>\n",
              "      <td id=\"T_3beeb_row3_col2\" class=\"data row3 col2\" >0.000004</td>\n",
              "      <td id=\"T_3beeb_row3_col3\" class=\"data row3 col3\" >-0.000818</td>\n",
              "    </tr>\n",
              "    <tr>\n",
              "      <td id=\"T_3beeb_row4_col0\" class=\"data row4 col0\" >5</td>\n",
              "      <td id=\"T_3beeb_row4_col1\" class=\"data row4 col1\" >1.498701</td>\n",
              "      <td id=\"T_3beeb_row4_col2\" class=\"data row4 col2\" >-0.000000</td>\n",
              "      <td id=\"T_3beeb_row4_col3\" class=\"data row4 col3\" >0.000004</td>\n",
              "    </tr>\n",
              "  </tbody>\n",
              "</table>\n"
            ]
          },
          "metadata": {},
          "execution_count": 9
        }
      ]
    },
    {
      "cell_type": "markdown",
      "source": [
        "# Part 4 - Fixed Point Method"
      ],
      "metadata": {
        "id": "c1V1lG7w5Ov6"
      }
    },
    {
      "cell_type": "markdown",
      "source": [
        "The fixed-point method is an iterative technique for finding the root of a function $f(x)$ by rewriting it in the form $x=g(x)$ and then iterating $x_{n+1}=g(x_n)$\n",
        "\n",
        "## Function:\n",
        "$f(x)=x-0.5sin(x)-1$\n",
        "\\\n",
        "## Step 1: Rewriting $f(x)$ in the form $x=g(x)$\n",
        "\n",
        "$x=0.5sin(x)+1$\n",
        "\n"
      ],
      "metadata": {
        "id": "So5nshFl5Qoj"
      }
    },
    {
      "cell_type": "code",
      "source": [
        "import numpy as np\n",
        "import matplotlib.pyplot as plt\n",
        "\n",
        "# Define the functions\n",
        "def f(x):\n",
        "    return x - 0.5 * np.sin(x) - 1\n",
        "\n",
        "def g(x):\n",
        "    return 0.5 * np.sin(x) + 1\n",
        "\n",
        "# Create a range of x values\n",
        "x = np.linspace(-10, 10, 400)\n",
        "\n",
        "# Compute the y values for each function\n",
        "y_f = f(x)\n",
        "y_g = g(x)\n",
        "\n",
        "# Plot the functions\n",
        "plt.figure(figsize=(10, 6))\n",
        "plt.plot(x, y_f, label='$f(x) = x - 0.5\\sin(x) - 1$', color='blue')\n",
        "plt.plot(x, y_g, label='$g(x) = 0.5\\sin(x)+1$', color='red', linestyle='--')\n",
        "\n",
        "# Add labels and title\n",
        "plt.xlabel('x')\n",
        "plt.ylabel('y')\n",
        "plt.title('Plot of $f(x) = x - 0.5\\sin(x) - 1$ and $g(x) = 0.5\\sin(x)+1$')\n",
        "plt.axhline(0, color='black',linewidth=0.5)\n",
        "plt.axvline(0, color='black',linewidth=0.5)\n",
        "plt.grid(color = 'gray', linestyle = '--', linewidth = 0.5)\n",
        "plt.legend()\n",
        "plt.show()\n"
      ],
      "metadata": {
        "colab": {
          "base_uri": "https://localhost:8080/",
          "height": 566
        },
        "id": "Hp1WDXlcSKjN",
        "outputId": "74c9a2d3-d347-4347-9d82-d4171115678e"
      },
      "execution_count": null,
      "outputs": [
        {
          "output_type": "display_data",
          "data": {
            "text/plain": [
              "<Figure size 1000x600 with 1 Axes>"
            ],
            "image/png": "[encoded data removed]"
          },
          "metadata": {}
        }
      ]
    },
    {
      "cell_type": "markdown",
      "source": [
        "### Python code for fixed-point method"
      ],
      "metadata": {
        "id": "OWlDhSFhS3t0"
      }
    },
    {
      "cell_type": "code",
      "source": [
        "def fixed_point_method(g, x0, nmax):\n",
        "  table4 = []\n",
        "\n",
        "  x = x0\n",
        "  for n in range(1, nmax+1):\n",
        "    x_new = g(x)\n",
        "    error = abs(x_new - x)\n",
        "\n",
        "    table4.append([n, x_new, error])\n",
        "\n",
        "    if n >= nmax:\n",
        "      print()\n",
        "      print(\"The root after\",n,\"interations of the fixed-point method is\", x_new)\n",
        "      print()\n",
        "      return table4\n",
        "\n",
        "    x = x_new\n",
        "\n",
        "  return table4\n",
        "\n",
        "# Defining g(x)\n",
        "\n",
        "g = lambda x: 0.5*math.sin(x) + 1\n",
        "\n",
        "# Running 5 interations of the fixed-point method\n",
        "\n",
        "table4 = fixed_point_method(g, 0.5, 5)\n",
        "\n",
        "df = pd.DataFrame(table4, columns=['n', 'x_new', 'abs error'])\n",
        "df.style.hide(axis='index')"
      ],
      "metadata": {
        "colab": {
          "base_uri": "https://localhost:8080/",
          "height": 260
        },
        "id": "vwBS-LJMS-8d",
        "outputId": "1940c501-c168-497d-fe36-d45372e50e2a"
      },
      "execution_count": null,
      "outputs": [
        {
          "output_type": "stream",
          "name": "stdout",
          "text": [
            "\n",
            "The root after 5 interations of the fixed-point method is 1.4986996982350211\n",
            "\n"
          ]
        },
        {
          "output_type": "execute_result",
          "data": {
            "text/plain": [
              "<pandas.io.formats.style.Styler at 0x7b01120eaf20>"
            ],
            "text/html": [
              "<style type=\"text/css\">\n",
              "</style>\n",
              "<table id=\"T_59fbf\" class=\"dataframe\">\n",
              "  <thead>\n",
              "    <tr>\n",
              "      <th id=\"T_59fbf_level0_col0\" class=\"col_heading level0 col0\" >n</th>\n",
              "      <th id=\"T_59fbf_level0_col1\" class=\"col_heading level0 col1\" >x_new</th>\n",
              "      <th id=\"T_59fbf_level0_col2\" class=\"col_heading level0 col2\" >abs error</th>\n",
              "    </tr>\n",
              "  </thead>\n",
              "  <tbody>\n",
              "    <tr>\n",
              "      <td id=\"T_59fbf_row0_col0\" class=\"data row0 col0\" >1</td>\n",
              "      <td id=\"T_59fbf_row0_col1\" class=\"data row0 col1\" >1.239713</td>\n",
              "      <td id=\"T_59fbf_row0_col2\" class=\"data row0 col2\" >0.739713</td>\n",
              "    </tr>\n",
              "    <tr>\n",
              "      <td id=\"T_59fbf_row1_col0\" class=\"data row1 col0\" >2</td>\n",
              "      <td id=\"T_59fbf_row1_col1\" class=\"data row1 col1\" >1.472845</td>\n",
              "      <td id=\"T_59fbf_row1_col2\" class=\"data row1 col2\" >0.233133</td>\n",
              "    </tr>\n",
              "    <tr>\n",
              "      <td id=\"T_59fbf_row2_col0\" class=\"data row2 col0\" >3</td>\n",
              "      <td id=\"T_59fbf_row2_col1\" class=\"data row2 col1\" >1.497603</td>\n",
              "      <td id=\"T_59fbf_row2_col2\" class=\"data row2 col2\" >0.024758</td>\n",
              "    </tr>\n",
              "    <tr>\n",
              "      <td id=\"T_59fbf_row3_col0\" class=\"data row3 col0\" >4</td>\n",
              "      <td id=\"T_59fbf_row3_col1\" class=\"data row3 col1\" >1.498661</td>\n",
              "      <td id=\"T_59fbf_row3_col2\" class=\"data row3 col2\" >0.001058</td>\n",
              "    </tr>\n",
              "    <tr>\n",
              "      <td id=\"T_59fbf_row4_col0\" class=\"data row4 col0\" >5</td>\n",
              "      <td id=\"T_59fbf_row4_col1\" class=\"data row4 col1\" >1.498700</td>\n",
              "      <td id=\"T_59fbf_row4_col2\" class=\"data row4 col2\" >0.000038</td>\n",
              "    </tr>\n",
              "  </tbody>\n",
              "</table>\n"
            ]
          },
          "metadata": {},
          "execution_count": 28
        }
      ]
    },
    {
      "cell_type": "markdown",
      "source": [
        "## Convergence Analysis\n",
        "The convergence or divergence of the fixed-point method depends on the properties of the function $𝑔(𝑥)$ used in the iteration $𝑥_{𝑛+1}=g(x_n)$.\n",
        "\n",
        "\\\n",
        "The key factors influencing whether the method converges or diverges are:\n",
        "1. Lipschitz Condition: The fixed-point iteration $x_{n+1}=g(x_n)$ will converge if $g(x)$ satisfies the Lipschitz condition with a Lipschitz constant $𝐿$ such that $|g'(x)|<= L < 1$ for all $x$ in the interval of interest. This ensures that the function does not stretch the distance between points too much, which is crucial for convergence.\n",
        "\n",
        "2. Derivative Condition: If $g'(x)$ is continuous and $|g'(x)|< 1$ in the interval, then the fixed-point method will converge to the root. This condition guarantees that the function $g(x)$ will pull the iterates $x_n$ closer to the fixed-point rather than pushing them away.\n",
        "3. Initial Guess: The initial guess $x_0$ should be chosen such that it is close to the fixed point and within the region where the convergence criteria (like Lipschitz condition) are satisfied. A poor initial guess can lead to divergence if it lies outside the region of convergence."
      ],
      "metadata": {
        "id": "tqXhP_Z_Z3gI"
      }
    }
  ]
}