{
  "nbformat": 4,
  "nbformat_minor": 0,
  "metadata": {
    "colab": {
      "provenance": []
    },
    "kernelspec": {
      "name": "python3",
      "display_name": "Python 3"
    },
    "language_info": {
      "name": "python"
    }
  },
  "cells": [
    {
      "cell_type": "markdown",
      "source": [
        "## Horner's Method for Polynomial Evaluation:\n",
        "The function horner(poly, x) evaluates the polynomial at a given point 𝑥 using Horner's method, which is an efficient way to compute polynomial values."
      ],
      "metadata": {
        "id": "V7eeODEVdpWm"
      }
    },
    {
      "cell_type": "code",
      "source": [
        "def horner(poly, x):\n",
        "    result = poly[0]\n",
        "    for i in range(1, len(poly)):\n",
        "        result = result * x + poly[i]\n",
        "    return result"
      ],
      "metadata": {
        "id": "HOHfhG5-dqG1"
      },
      "execution_count": null,
      "outputs": []
    },
    {
      "cell_type": "markdown",
      "source": [
        "* Initialization: Start with the leading coefficient.\n",
        "* Iteration: For each coefficient, multiply the current result by\n",
        "𝑥 and add the next coefficient.\n",
        "* Result: This method reduces the number of multiplications and additions, making it more efficient."
      ],
      "metadata": {
        "id": "eGIj2iigd_4Z"
      }
    },
    {
      "cell_type": "markdown",
      "source": [
        "## Differentiating the Polynomial:\n",
        "The function differentiate(poly) computes the derivative of the polynomial."
      ],
      "metadata": {
        "id": "0MvtmaezeL4g"
      }
    },
    {
      "cell_type": "code",
      "source": [
        "def differentiate(poly):\n",
        "    n = len(poly)\n",
        "    deriv = [poly[i] * (n - i - 1) for i in range(n - 1)]\n",
        "    return deriv"
      ],
      "metadata": {
        "id": "FLWxN6NpeVKz"
      },
      "execution_count": null,
      "outputs": []
    },
    {
      "cell_type": "markdown",
      "source": [
        "* Initialization: Determine the degree of the polynomial.\n",
        "* Derivative Calculation: For each coefficient, multiply by the corresponding power of\n",
        "𝑥 and reduce the degree.\n",
        "* Result: Return the coefficients of the derivative polynomial."
      ],
      "metadata": {
        "id": "r1Hl5UVLeW8a"
      }
    },
    {
      "cell_type": "markdown",
      "source": [
        "## Factorial Calculation:\n",
        "The function factorial(n) computes the factorial of 𝑛."
      ],
      "metadata": {
        "id": "036zOQgiehfy"
      }
    },
    {
      "cell_type": "code",
      "source": [
        "def factorial(n):\n",
        "    if n == 0 or n == 1:\n",
        "        return 1\n",
        "    else:\n",
        "        result = 1\n",
        "        for i in range(2, n + 1):\n",
        "            result *= i\n",
        "        return result"
      ],
      "metadata": {
        "id": "s98HaAiveouQ"
      },
      "execution_count": null,
      "outputs": []
    },
    {
      "cell_type": "markdown",
      "source": [
        "* Base Case: If 𝑛 is 0 or 1, return 1.\n",
        "* Iteration: Multiply all integers from 2 to 𝑛.\n",
        "* Result: Return the factorial of 𝑛."
      ],
      "metadata": {
        "id": "7-_ZdBpaeqGs"
      }
    },
    {
      "cell_type": "markdown",
      "source": [
        "## Taylor Series Coefficients Calculation:\n",
        "The function taylor_coefficients(poly, x0, n) computes the Taylor series coefficients."
      ],
      "metadata": {
        "id": "3lKredpme2wA"
      }
    },
    {
      "cell_type": "code",
      "source": [
        "def taylor_coefficients(poly, x0, n):\n",
        "    derivatives = []\n",
        "    P = poly[:]\n",
        "\n",
        "    for i in range(n + 1):\n",
        "        derivatives.append(horner(P, x0))\n",
        "        P = differentiate(P)\n",
        "\n",
        "    taylor_coefs = [deriv / factorial(i) for i, deriv in enumerate(derivatives)]\n",
        "    return taylor_coefs"
      ],
      "metadata": {
        "id": "jF99Yr8de8qQ"
      },
      "execution_count": null,
      "outputs": []
    },
    {
      "cell_type": "markdown",
      "source": [
        "* Initialization: Create a list to store the derivatives and copy the polynomial.\n",
        "* Derivative Evaluation: For each derivative up to the nth degree:\n",
        "1. Evaluate the polynomial at 𝑥0 using Horner's method.\n",
        "2. Compute the next derivative.\n",
        "* Taylor Coefficients: Divide each derivative by its corresponding factorial to get the Taylor series coefficients."
      ],
      "metadata": {
        "id": "AVOjbKjMe-AD"
      }
    },
    {
      "cell_type": "markdown",
      "source": [
        "## Putting It All Together:\n",
        "The main code block defines the polynomial, point of expansion, and degree, then calculates and displays the Taylor series coefficients."
      ],
      "metadata": {
        "id": "QU2ejPwZfafI"
      }
    },
    {
      "cell_type": "code",
      "source": [
        "# Polynomial coefficients for p(x) = x^5 - 3x^3 - 4x^2 + 10\n",
        "poly = [1, 0, -3, -4, 0, 10]\n",
        "x0 = 2\n",
        "n = 5  # Degree of the polynomial\n",
        "\n",
        "# Get Taylor series coefficients\n",
        "coefficients = taylor_coefficients(poly, x0, n)\n",
        "\n",
        "# Display the coefficients\n",
        "print('Taylor series coefficients:')\n",
        "for i, coef in enumerate(coefficients):\n",
        "    print(f'Term {i}: {coef}')\n",
        "\n",
        "# Write the Taylor series\n",
        "terms = [f'{coef:.2f}(x - {x0})^{i}' if i > 0 else f'{coef:.2f}' for i, coef in enumerate(coefficients)]\n",
        "print()\n",
        "print(\"Taylor Series:\", taylor_series)"
      ],
      "metadata": {
        "colab": {
          "base_uri": "https://localhost:8080/"
        },
        "id": "uiIWAYHPfeSJ",
        "outputId": "66c4a7e4-86c9-4093-d096-de0020fb6267"
      },
      "execution_count": null,
      "outputs": [
        {
          "output_type": "stream",
          "name": "stdout",
          "text": [
            "Taylor series coefficients:\n",
            "Term 0: 2.0\n",
            "Term 1: 28.0\n",
            "Term 2: 58.0\n",
            "Term 3: 37.0\n",
            "Term 4: 10.0\n",
            "Term 5: 1.0\n",
            "\n",
            "Taylor Series: 2.00 + 28.00(x - 2)^1 + 58.00(x - 2)^2 + 37.00(x - 2)^3 + 10.00(x - 2)^4 + 1.00(x - 2)^5\n"
          ]
        }
      ]
    }
  ]
}